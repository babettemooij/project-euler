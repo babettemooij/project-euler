{
 "cells": [
  {
   "cell_type": "markdown",
   "metadata": {},
   "source": [
    "# Problem 26"
   ]
  },
  {
   "cell_type": "markdown",
   "metadata": {
    "collapsed": false
   },
   "source": [
    "A unit fraction contains 1 in the numerator. The decimal representation of the unit fractions with denominators 2 to 10 are given:\n",
    "\n",
    "1/2\t= \t0.5\n",
    "\n",
    "1/3\t= \t0.(3)\n",
    "\n",
    "1/4\t= \t0.25\n",
    "\n",
    "1/5\t= \t0.2\n",
    "\n",
    "1/6\t= \t0.1(6)\n",
    "\n",
    "1/7\t= \t0.(142857)\n",
    "\n",
    "1/8\t= \t0.125\n",
    "\n",
    "1/9\t= \t0.(1)\n",
    "\n",
    "1/10\t= \t0.1\n",
    "\n",
    "Where 0.1(6) means 0.166666..., and has a 1-digit recurring cycle. It can be seen that 1/7 has a 6-digit recurring cycle.\n",
    "\n",
    "Find the value of d < 1000 for which 1/d contains the longest recurring cycle in its decimal fraction part."
   ]
  },
  {
   "cell_type": "code",
   "execution_count": 1,
   "metadata": {
    "collapsed": false
   },
   "outputs": [
    {
     "name": "stdout",
     "output_type": "stream",
     "text": [
      "983\n"
     ]
    }
   ],
   "source": [
    "# The period of 1/n is equal to the period in sequence of remainders used in the above process. \n",
    "# This can be easily proved from the fact that digits are directly derived from remainders.\n",
    "# One interesting fact about sequence of remainders is, all terns in period of this remainder sequence are distinct.\n",
    "# The reason for this is simple, if a remainder repeats, then it’s beginning of new period.\n",
    "# For a number n, there can be at most n distinct remainders. \n",
    "# Also, the period may not begin from the first remainder as some initial remainders may be non-repetitive.\n",
    "# So to make sure that a remainder from a period is picked:\n",
    "# start from the (n+1)th remainder and keep looking for its next occurrence. \n",
    "# The distance between (n+1)’th remainder and its next occurrence is the length of the period.\n",
    "\n",
    "from decimal import *\n",
    "getcontext().prec = 500\n",
    "\n",
    "def maxPeriod(n): \n",
    "    maxperiod = 0\n",
    "    maxd = 0\n",
    "    \n",
    "    for d in range (1, n):\n",
    "        rem = 1\n",
    "        for i in range(1, d + 2):\n",
    "            rem = (rem * Decimal(10)) % Decimal(d)\n",
    "            \n",
    "        rems = []\n",
    "        period = 1\n",
    "        \n",
    "        while rem not in rems:\n",
    "            rems.append(rem)\n",
    "            rem = (rem * Decimal(10)) % Decimal(d)\n",
    "            period += 1\n",
    "        \n",
    "        if period > maxperiod:\n",
    "            maxperiod = period - 1\n",
    "            maxd = d\n",
    "            \n",
    "    return maxd\n",
    "\n",
    "print maxPeriod(1000)"
   ]
  },
  {
   "cell_type": "markdown",
   "metadata": {},
   "source": [
    "# Problem 27"
   ]
  },
  {
   "cell_type": "markdown",
   "metadata": {},
   "source": [
    "Euler discovered the remarkable quadratic formula:\n",
    "\n",
    "n^2 + n + 41\n",
    "\n",
    "It turns out that the formula will produce 40 primes for the consecutive integer values 0 ≤ n ≤ 39. However, when n = 40, 40^2 + 40 + 41 = 40(40 + 1) + 41 is divisible by 41, and certainly when n = 41, 41^2 + 41 + 41 is clearly divisible by 41.\n",
    "\n",
    "The incredible formula n^2 − 79n + 1601 was discovered, which produces 80 primes for the consecutive values 0 ≤ n ≤ 79. The product of the coefficients, −79 and 1601, is −126479.\n",
    "\n",
    "Considering quadratics of the form:\n",
    "\n",
    "n^2 + an + b, where |a| < 1000 and |b| ≤ 1000\n",
    "\n",
    "where |n| is the modulus/absolute value of n\n",
    "e.g. |11| = 11 and |−4| = 4\n",
    "\n",
    "Find the product of the coefficients, a and b, for the quadratic expression that produces the maximum number of primes for consecutive values of n, starting with n = 0.\n",
    "\n"
   ]
  },
  {
   "cell_type": "code",
   "execution_count": 4,
   "metadata": {
    "collapsed": false,
    "scrolled": true
   },
   "outputs": [
    {
     "name": "stdout",
     "output_type": "stream",
     "text": [
      "76576500\n"
     ]
    }
   ],
   "source": []
  },
  {
   "cell_type": "markdown",
   "metadata": {},
   "source": [
    "# Problem 28"
   ]
  },
  {
   "cell_type": "markdown",
   "metadata": {},
   "source": []
  },
  {
   "cell_type": "code",
   "execution_count": 5,
   "metadata": {
    "collapsed": false
   },
   "outputs": [
    {
     "name": "stdout",
     "output_type": "stream",
     "text": [
      "5537376230390876637302048746832985971773659831892672\n"
     ]
    }
   ],
   "source": []
  },
  {
   "cell_type": "markdown",
   "metadata": {},
   "source": [
    "# Problem 29"
   ]
  },
  {
   "cell_type": "markdown",
   "metadata": {},
   "source": []
  },
  {
   "cell_type": "code",
   "execution_count": 5,
   "metadata": {
    "collapsed": false
   },
   "outputs": [
    {
     "name": "stdout",
     "output_type": "stream",
     "text": [
      "837799\n"
     ]
    }
   ],
   "source": []
  },
  {
   "cell_type": "markdown",
   "metadata": {},
   "source": [
    "# Problem 30"
   ]
  },
  {
   "cell_type": "markdown",
   "metadata": {},
   "source": []
  },
  {
   "cell_type": "code",
   "execution_count": 12,
   "metadata": {
    "collapsed": false
   },
   "outputs": [
    {
     "name": "stdout",
     "output_type": "stream",
     "text": [
      "137846528820\n"
     ]
    }
   ],
   "source": []
  }
 ],
 "metadata": {
  "anaconda-cloud": {},
  "kernelspec": {
   "display_name": "Python [anaconda]",
   "language": "python",
   "name": "Python [anaconda]"
  },
  "language_info": {
   "codemirror_mode": {
    "name": "ipython",
    "version": 2
   },
   "file_extension": ".py",
   "mimetype": "text/x-python",
   "name": "python",
   "nbconvert_exporter": "python",
   "pygments_lexer": "ipython2",
   "version": "2.7.15"
  }
 },
 "nbformat": 4,
 "nbformat_minor": 0
}
